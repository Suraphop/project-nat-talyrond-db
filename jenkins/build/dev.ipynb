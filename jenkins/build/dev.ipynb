{
 "cells": [
  {
   "cell_type": "code",
   "execution_count": 3,
   "metadata": {},
   "outputs": [
    {
     "name": "stdout",
     "output_type": "stream",
     "text": [
      "\n",
      "Hi this is job run at -- 2023-06-23 09:48:15\n",
      "{'status': 'info', 'file_name': None, 'process': 'check_floder', 'message': 'found the directory: D:/talyrond_ng', 'error': '-'}\n",
      "{'status': 'info', 'file_name': None, 'process': 'check_table', 'message': 'found a data_talyrond table', 'error': '-'}\n",
      "{'status': 'info', 'file_name': None, 'process': 'check_table_log', 'message': 'found a data_talyrond table', 'error': '-'}\n",
      "{'status': 'info', 'file_name': None, 'process': 'read_path', 'message': 'found: 2 file', 'error': '-'}\n",
      "{'status': 'info', 'file_name': 'D:/talyrond_ng\\\\2023\\\\06\\\\22\\\\01_G7258.csv', 'process': 'read_data', 'message': 'csv to pd', 'error': '-'}\n",
      "{'status': 'info', 'file_name': 'D:/talyrond_ng\\\\2023\\\\06\\\\22\\\\01_G7258.csv', 'process': 'query_df', 'message': 'query df success', 'error': '-'}\n",
      "{'status': 'info', 'file_name': 'D:/talyrond_ng\\\\2023\\\\06\\\\22\\\\01_G7258.csv', 'process': 'check_duplicate', 'message': 'data is not new for update', 'error': '-'}\n",
      "{'status': 'info', 'file_name': 'D:/talyrond_ng\\\\2023\\\\06\\\\22\\\\03_G7258.csv', 'process': 'read_data', 'message': 'csv to pd', 'error': '-'}\n",
      "{'status': 'info', 'file_name': 'D:/talyrond_ng\\\\2023\\\\06\\\\22\\\\03_G7258.csv', 'process': 'query_df', 'message': 'query df success', 'error': '-'}\n",
      "{'status': 'info', 'file_name': 'D:/talyrond_ng\\\\2023\\\\06\\\\22\\\\03_G7258.csv', 'process': 'check_duplicate', 'message': 'data is not new for update', 'error': '-'}\n",
      "{'status': 'ok', 'file_name': '-', 'process': 'df_to_db', 'message': 'program running done', 'error': '-'}\n"
     ]
    }
   ],
   "source": [
    "import utils.constant as constant\n",
    "import os\n",
    "\n",
    "from utils.csv_to_db import TALYROND\n",
    "from dotenv import load_dotenv\n",
    "\n",
    "load_dotenv()\n",
    "\n",
    "talyrond = TALYROND(\n",
    "        path=constant.TALYROND_PATH,\n",
    "        server=os.getenv('SERVER'),\n",
    "        database=os.getenv('DATABASE'),\n",
    "        user_login=os.getenv('USER_LOGIN'),\n",
    "        password=os.getenv('PASSWORD'),\n",
    "        table=constant.TALYROND_TABLE,\n",
    "        table_columns=constant.TALYROND_TABLE_COLUMNS,\n",
    "        table_log=constant.TALYROND_TABLE_LOG,\n",
    "        table_columns_log=constant.TALYROND_TABLE_COLUMNS_LOG,\n",
    "        line_notify_token=os.getenv('LINE_NOTIFY_TOKEN'),\n",
    "    )\n",
    "\n",
    "\n",
    "talyrond.run()"
   ]
  },
  {
   "cell_type": "code",
   "execution_count": 23,
   "metadata": {},
   "outputs": [
    {
     "name": "stdout",
     "output_type": "stream",
     "text": [
      "ng\n"
     ]
    }
   ],
   "source": [
    "import pandas as pd\n",
    "col_names = ['Parts No.','Lot No.','Entry date','M/C No.','Measurement item',\n",
    "'Measurement value','M/I No.','Individual judgement']\n",
    "df = pd.read_csv(r'D:\\talyrond_ng\\2023\\06\\22\\02_G7258.csv',usecols=col_names) #01_G7258 , 02_G7258 , 03_G7258\n",
    "df.rename(columns = {'Parts No.':'parts_no',\n",
    "'Lot No.':'lot_no','Entry date':'entry_date','M/C No.':'mc_no',\n",
    "'Measurement item':'measurement_item',\n",
    "'Measurement value':'measurement_value','M/I No.':'mi_no',\n",
    "'Individual judgement':'individual_judgement'}, inplace = True)\n",
    "df.dropna(inplace=True)\n",
    "check_ng = df[df['individual_judgement'] == 'NG']\n",
    "\n",
    "if check_ng.empty:\n",
    "    print('ok')\n",
    "    df_result = df.copy()\n",
    "    df_result = df_result.head(1)\n",
    "    df_result[\"checked\"] = 'OK'\n",
    "else:\n",
    "    print(\"ng\")\n",
    "    df_result = check_ng.copy()\n",
    "    df_result['checked'] = 'WAITING'"
   ]
  },
  {
   "cell_type": "code",
   "execution_count": 24,
   "metadata": {},
   "outputs": [
    {
     "data": {
      "text/html": [
       "<div>\n",
       "<style scoped>\n",
       "    .dataframe tbody tr th:only-of-type {\n",
       "        vertical-align: middle;\n",
       "    }\n",
       "\n",
       "    .dataframe tbody tr th {\n",
       "        vertical-align: top;\n",
       "    }\n",
       "\n",
       "    .dataframe thead th {\n",
       "        text-align: right;\n",
       "    }\n",
       "</style>\n",
       "<table border=\"1\" class=\"dataframe\">\n",
       "  <thead>\n",
       "    <tr style=\"text-align: right;\">\n",
       "      <th></th>\n",
       "      <th>parts_no</th>\n",
       "      <th>lot_no</th>\n",
       "      <th>entry_date</th>\n",
       "      <th>mc_no</th>\n",
       "      <th>measurement_item</th>\n",
       "      <th>measurement_value</th>\n",
       "      <th>mi_no</th>\n",
       "      <th>individual_judgement</th>\n",
       "    </tr>\n",
       "  </thead>\n",
       "  <tbody>\n",
       "    <tr>\n",
       "      <th>0</th>\n",
       "      <td>2R-830X10ZZMT</td>\n",
       "      <td>Z600200</td>\n",
       "      <td>6/20/2023 8:01:25 PM</td>\n",
       "      <td>IR-02H</td>\n",
       "      <td>Pt</td>\n",
       "      <td>0.3487</td>\n",
       "      <td>TS-01</td>\n",
       "      <td>OK1</td>\n",
       "    </tr>\n",
       "    <tr>\n",
       "      <th>1</th>\n",
       "      <td>2R-830X10ZZMT</td>\n",
       "      <td>Z600200</td>\n",
       "      <td>6/20/2023 8:01:25 PM</td>\n",
       "      <td>IR-02H</td>\n",
       "      <td>Ra</td>\n",
       "      <td>0.0084</td>\n",
       "      <td>TS-01</td>\n",
       "      <td>OK1</td>\n",
       "    </tr>\n",
       "    <tr>\n",
       "      <th>2</th>\n",
       "      <td>2R-830X10ZZMT</td>\n",
       "      <td>Z600200</td>\n",
       "      <td>6/20/2023 8:01:25 PM</td>\n",
       "      <td>IR-02H</td>\n",
       "      <td>Cv</td>\n",
       "      <td>0.8909</td>\n",
       "      <td>TS-01</td>\n",
       "      <td>NG</td>\n",
       "    </tr>\n",
       "    <tr>\n",
       "      <th>3</th>\n",
       "      <td>2R-830X10ZZMT</td>\n",
       "      <td>Z600200</td>\n",
       "      <td>6/20/2023 8:01:25 PM</td>\n",
       "      <td>IR-02H</td>\n",
       "      <td>Cv Diff</td>\n",
       "      <td>0.0179</td>\n",
       "      <td>TS-01</td>\n",
       "      <td>NG</td>\n",
       "    </tr>\n",
       "  </tbody>\n",
       "</table>\n",
       "</div>"
      ],
      "text/plain": [
       "        parts_no   lot_no            entry_date   mc_no measurement_item   \n",
       "0  2R-830X10ZZMT  Z600200  6/20/2023 8:01:25 PM  IR-02H               Pt  \\\n",
       "1  2R-830X10ZZMT  Z600200  6/20/2023 8:01:25 PM  IR-02H               Ra   \n",
       "2  2R-830X10ZZMT  Z600200  6/20/2023 8:01:25 PM  IR-02H               Cv   \n",
       "3  2R-830X10ZZMT  Z600200  6/20/2023 8:01:25 PM  IR-02H          Cv Diff   \n",
       "\n",
       "   measurement_value  mi_no individual_judgement  \n",
       "0             0.3487  TS-01                  OK1  \n",
       "1             0.0084  TS-01                  OK1  \n",
       "2             0.8909  TS-01                   NG  \n",
       "3             0.0179  TS-01                   NG  "
      ]
     },
     "execution_count": 24,
     "metadata": {},
     "output_type": "execute_result"
    }
   ],
   "source": [
    "df"
   ]
  },
  {
   "cell_type": "code",
   "execution_count": 25,
   "metadata": {},
   "outputs": [
    {
     "data": {
      "text/html": [
       "<div>\n",
       "<style scoped>\n",
       "    .dataframe tbody tr th:only-of-type {\n",
       "        vertical-align: middle;\n",
       "    }\n",
       "\n",
       "    .dataframe tbody tr th {\n",
       "        vertical-align: top;\n",
       "    }\n",
       "\n",
       "    .dataframe thead th {\n",
       "        text-align: right;\n",
       "    }\n",
       "</style>\n",
       "<table border=\"1\" class=\"dataframe\">\n",
       "  <thead>\n",
       "    <tr style=\"text-align: right;\">\n",
       "      <th></th>\n",
       "      <th>parts_no</th>\n",
       "      <th>lot_no</th>\n",
       "      <th>entry_date</th>\n",
       "      <th>mc_no</th>\n",
       "      <th>measurement_item</th>\n",
       "      <th>measurement_value</th>\n",
       "      <th>mi_no</th>\n",
       "      <th>individual_judgement</th>\n",
       "      <th>checked</th>\n",
       "    </tr>\n",
       "  </thead>\n",
       "  <tbody>\n",
       "    <tr>\n",
       "      <th>2</th>\n",
       "      <td>2R-830X10ZZMT</td>\n",
       "      <td>Z600200</td>\n",
       "      <td>6/20/2023 8:01:25 PM</td>\n",
       "      <td>IR-02H</td>\n",
       "      <td>Cv</td>\n",
       "      <td>0.8909</td>\n",
       "      <td>TS-01</td>\n",
       "      <td>NG</td>\n",
       "      <td>WAITING</td>\n",
       "    </tr>\n",
       "    <tr>\n",
       "      <th>3</th>\n",
       "      <td>2R-830X10ZZMT</td>\n",
       "      <td>Z600200</td>\n",
       "      <td>6/20/2023 8:01:25 PM</td>\n",
       "      <td>IR-02H</td>\n",
       "      <td>Cv Diff</td>\n",
       "      <td>0.0179</td>\n",
       "      <td>TS-01</td>\n",
       "      <td>NG</td>\n",
       "      <td>WAITING</td>\n",
       "    </tr>\n",
       "  </tbody>\n",
       "</table>\n",
       "</div>"
      ],
      "text/plain": [
       "        parts_no   lot_no            entry_date   mc_no measurement_item   \n",
       "2  2R-830X10ZZMT  Z600200  6/20/2023 8:01:25 PM  IR-02H               Cv  \\\n",
       "3  2R-830X10ZZMT  Z600200  6/20/2023 8:01:25 PM  IR-02H          Cv Diff   \n",
       "\n",
       "   measurement_value  mi_no individual_judgement  checked  \n",
       "2             0.8909  TS-01                   NG  WAITING  \n",
       "3             0.0179  TS-01                   NG  WAITING  "
      ]
     },
     "execution_count": 25,
     "metadata": {},
     "output_type": "execute_result"
    }
   ],
   "source": [
    "df_result"
   ]
  }
 ],
 "metadata": {
  "kernelspec": {
   "display_name": "Python 3.9.0 ('testcron')",
   "language": "python",
   "name": "python3"
  },
  "language_info": {
   "codemirror_mode": {
    "name": "ipython",
    "version": 3
   },
   "file_extension": ".py",
   "mimetype": "text/x-python",
   "name": "python",
   "nbconvert_exporter": "python",
   "pygments_lexer": "ipython3",
   "version": "3.9.0"
  },
  "orig_nbformat": 4,
  "vscode": {
   "interpreter": {
    "hash": "ab80cde3ca2088efb50cb5bea2573eb8fc08e642c725b1d9b4f2ca8c1ae0063d"
   }
  }
 },
 "nbformat": 4,
 "nbformat_minor": 2
}
